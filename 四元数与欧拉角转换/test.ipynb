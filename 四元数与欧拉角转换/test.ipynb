{
 "cells": [
  {
   "cell_type": "code",
   "execution_count": null,
   "id": "31904017",
   "metadata": {},
   "outputs": [],
   "source": [
    "import numpy as np\n",
    "import math"
   ]
  },
  {
   "cell_type": "code",
   "execution_count": 2,
   "id": "3a21781a",
   "metadata": {},
   "outputs": [],
   "source": [
    "def quaternion_to_euler_zxy(w, x, y, z):\n",
    "    rx = math.asin(2*(y*z+w*x))\n",
    "    ry = math.atan2(2*(w*y-x*z), 1-2*(x**2 + y**2))\n",
    "    rz = math.atan2(2*(w*z-x*y), 1-2*(x**2 + z**2))\n",
    "    \n",
    "    return rx, ry, rz"
   ]
  },
  {
   "cell_type": "code",
   "execution_count": null,
   "id": "3a1945fb",
   "metadata": {},
   "outputs": [
    {
     "data": {
      "text/plain": [
       "(-0.7409247620283713, -2.302448944584131, -0.2777275364587518)"
      ]
     },
     "execution_count": 4,
     "metadata": {},
     "output_type": "execute_result"
    }
   ],
   "source": [
    "rx, ry, rz = quaternion_to_euler_zxy(0.4218452, -0.2639032, -0.8226981, 0.2748991)\n",
    "rx, ry, rz"
   ]
  }
 ],
 "metadata": {
  "kernelspec": {
   "display_name": "m",
   "language": "python",
   "name": "python3"
  },
  "language_info": {
   "codemirror_mode": {
    "name": "ipython",
    "version": 3
   },
   "file_extension": ".py",
   "mimetype": "text/x-python",
   "name": "python",
   "nbconvert_exporter": "python",
   "pygments_lexer": "ipython3",
   "version": "3.13.4"
  }
 },
 "nbformat": 4,
 "nbformat_minor": 5
}

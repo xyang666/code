{
 "cells": [
  {
   "cell_type": "code",
   "execution_count": 2,
   "id": "2174ee12",
   "metadata": {},
   "outputs": [],
   "source": [
    "import numpy as np\n",
    "from astropy.coordinates import CartesianRepresentation, ITRS, GCRS\n",
    "from astropy.time import Time\n",
    "import astropy.units as u\n",
    "from astropy.coordinates import SkyCoord\n",
    "from astropy.utils import iers\n",
    "import erfa\n",
    "iers.conf.auto_download = False  # 禁用自动下载"
   ]
  },
  {
   "cell_type": "code",
   "execution_count": 2,
   "id": "5d8898b3",
   "metadata": {},
   "outputs": [
    {
     "name": "stdout",
     "output_type": "stream",
     "text": [
      "位置矢量 [X, Y, Z]: [-3490553.25095484  2967414.22232443  4987205.00104197] 米\n",
      "速度矢量 [Vx, Vy, Vz]: [-2860.20056896 -6818.00547155  2060.09789316] 米/秒\n"
     ]
    }
   ],
   "source": [
    "def keplerian_to_cartesian(a, e, i, raan, argp, nu, mu):\n",
    "    \"\"\"\n",
    "    将开普勒轨道根数转换为笛卡尔位置和速度矢量 (IJK坐标系)。\n",
    "\n",
    "    参数:\n",
    "    a : float\n",
    "        半长轴 (m)\n",
    "    e : float\n",
    "        偏心率\n",
    "    i : float\n",
    "        轨道倾角 (rad)\n",
    "    raan : float\n",
    "        升交点赤经 (rad)\n",
    "    argp : float\n",
    "        近地点幅角 (rad)\n",
    "    nu : float\n",
    "        真近点角 (rad)\n",
    "    mu : float\n",
    "        中心天体重力参数 (m^3/s^2)\n",
    "\n",
    "    返回:\n",
    "    r_ijk : numpy array\n",
    "        位置矢量 [X, Y, Z] (m)\n",
    "    v_ijk : numpy array\n",
    "        速度矢量 [Vx, Vy, Vz] (m/s)\n",
    "    \"\"\"\n",
    "\n",
    "    # 1. 计算比角动量 h 和瞬时距离 r\n",
    "    h = np.sqrt(mu * a * (1 - e**2))\n",
    "    r = (h**2 / mu) / (1 + e * np.cos(nu))\n",
    "\n",
    "    # 2. 在PQW轨道平面坐标系中的位置和速度\n",
    "    r_pqw = np.array([r * np.cos(nu), r * np.sin(nu), 0])\n",
    "    v_pqw = np.array([-(mu/h) * np.sin(nu), (mu/h) * (e + np.cos(nu)), 0])\n",
    "\n",
    "    # 3. 构建旋转矩阵 (从PQW到IJK)\n",
    "    # 注意：代码中使用的是旋转矩阵的转置\n",
    "    R11 = np.cos(raan)*np.cos(argp) - np.sin(raan)*np.sin(argp)*np.cos(i)\n",
    "    R12 = -np.cos(raan)*np.sin(argp) - np.sin(raan)*np.cos(argp)*np.cos(i)\n",
    "    R13 = np.sin(raan)*np.sin(i)\n",
    "    \n",
    "    R21 = np.sin(raan)*np.cos(argp) + np.cos(raan)*np.sin(argp)*np.cos(i)\n",
    "    R22 = -np.sin(raan)*np.sin(argp) + np.cos(raan)*np.cos(argp)*np.cos(i)\n",
    "    R23 = -np.cos(raan)*np.sin(i)\n",
    "    \n",
    "    R31 = np.sin(argp)*np.sin(i)\n",
    "    R32 = np.cos(argp)*np.sin(i)\n",
    "    R33 = np.cos(i)\n",
    "    \n",
    "    rot_matrix = np.array([[R11, R12, R13],\n",
    "                           [R21, R22, R23],\n",
    "                           [R31, R32, R33]])\n",
    "\n",
    "    # 4. 应用旋转，得到IJK坐标系中的矢量\n",
    "    r_ijk = rot_matrix @ r_pqw\n",
    "    v_ijk = rot_matrix @ v_pqw\n",
    "\n",
    "    return r_ijk, v_ijk\n",
    "\n",
    "if __name__ == \"__main__\":\n",
    "    # 定义地球重力参数 (m^3/s^2)\n",
    "    mu_earth = 3.986004418e14\n",
    "\n",
    "    # 输入一组开普勒根数 (示例为一个近地轨道)\n",
    "    a = 6778000.0  # m (约400km高度)\n",
    "    e = 0.001\n",
    "    i = np.deg2rad(51.6)  # 转换为弧度\n",
    "    raan = np.deg2rad(80.0)\n",
    "    argp = np.deg2rad(40.0)\n",
    "    nu = np.deg2rad(30.0)\n",
    "\n",
    "    # 执行转换\n",
    "    r_vec, v_vec = keplerian_to_cartesian(a, e, i, raan, argp, nu, mu_earth)\n",
    "\n",
    "    # 打印结果\n",
    "    print(f\"位置矢量 [X, Y, Z]: {r_vec} 米\")\n",
    "    print(f\"速度矢量 [Vx, Vy, Vz]: {v_vec} 米/秒\")"
   ]
  },
  {
   "cell_type": "code",
   "execution_count": 7,
   "id": "bb9cf226",
   "metadata": {},
   "outputs": [
    {
     "name": "stdout",
     "output_type": "stream",
     "text": [
      "ECEF坐标 (m): [-1785248.68548046  1346434.97094746  3000000.        ]\n"
     ]
    }
   ],
   "source": [
    "def eci_to_ecef(x_eci, y_eci, z_eci, utc_time):\n",
    "    # 计算GAST（Astropy内置方法）\n",
    "    t = Time(utc_time, scale='utc')\n",
    "    gast = t.sidereal_time('apparent', 'greenwich').radian\n",
    "    \n",
    "    # 构建旋转矩阵\n",
    "    Rz = np.array([\n",
    "        [np.cos(gast), np.sin(gast), 0],\n",
    "        [-np.sin(gast), np.cos(gast), 0],\n",
    "        [0, 0, 1]\n",
    "    ])\n",
    "    \n",
    "    # 应用旋转\n",
    "    ecef = Rz @ np.array([x_eci, y_eci, z_eci])\n",
    "    return ecef\n",
    "\n",
    "if __name__ == \"__main__\":\n",
    "    x_eci, y_eci, z_eci = 1000000, 2000000, 3000000  # 假设ECI坐标\n",
    "    ecef = eci_to_ecef(x_eci, y_eci, z_eci, '2000-01-01 12:00:00')\n",
    "    print(\"ECEF坐标 (m):\", ecef)"
   ]
  },
  {
   "cell_type": "code",
   "execution_count": null,
   "id": "007d72c1",
   "metadata": {},
   "outputs": [
    {
     "name": "stdout",
     "output_type": "stream",
     "text": [
      "ECEF 坐标 (m): (-1785232.64476908, 1346634.72812936, 2999919.88443804) \n"
     ]
    }
   ],
   "source": [
    "def eci_to_ecef_acc(x_eci, y_eci, z_eci, utc_time):\n",
    "    # 创建 GCRS 坐标（J2000.0 历元）\n",
    "    coord = SkyCoord(\n",
    "        x=x_eci, y=y_eci, z=z_eci,\n",
    "        frame='gcrs',\n",
    "        representation_type='cartesian',\n",
    "        obstime=utc_time\n",
    "    )\n",
    "    \n",
    "    # 转换为 ITRS\n",
    "    coord_trans = coord.transform_to('itrs')\n",
    "    \n",
    "    return coord_trans\n",
    "\n",
    "if __name__ == \"__main__\":\n",
    "    t = Time(\"2000-01-01 12:00:00\", scale=\"utc\")\n",
    "    x_eci, y_eci, z_eci = 1000000, 2000000, 3000000  # 假设ECI坐标\n",
    "    ecef = eci_to_ecef_acc(x_eci, y_eci, z_eci, '2000-01-01 12:00:00')\n",
    "    print(\"ECEF 坐标 (m):\", ecef.cartesian)"
   ]
  },
  {
   "cell_type": "code",
   "execution_count": 5,
   "id": "882175e6",
   "metadata": {},
   "outputs": [
    {
     "name": "stdout",
     "output_type": "stream",
     "text": [
      "x_p = 0.0433815 arcsec, y_p = 0.3778705 arcsec\n",
      "PN 矩阵:\n",
      " [[ 1.00000000e+00  9.75665826e-09  2.69461723e-05]\n",
      " [-1.05112802e-08  1.00000000e+00  2.80047948e-05]\n",
      " [-2.69461720e-05 -2.80047951e-05  9.99999999e-01]]\n",
      "R 矩阵:\n",
      " [[ 0.18158511 -0.98337523  0.        ]\n",
      " [ 0.98337523  0.18158511  0.        ]\n",
      " [ 0.          0.          1.        ]]\n",
      "POM 矩阵:\n",
      " [[ 1.00000000e+00 -4.63442157e-18  2.10319447e-07]\n",
      " [ 3.85303106e-13  1.00000000e+00 -1.83196788e-06]\n",
      " [-2.10319447e-07  1.83196788e-06  1.00000000e+00]]\n",
      "总矩阵 (ECI→ECEF):\n",
      " [[ 1.81585123e-01 -9.83375230e-01 -2.24358785e-05]\n",
      " [ 9.83375230e-01  1.81585122e-01  2.97514843e-05]\n",
      " [-2.51828510e-05 -2.74653141e-05  9.99999999e-01]]\n",
      "\n",
      "Example vector (GCRS) -> ITRS via composed matrix:\n",
      " [-1785232.64476908  1346634.72812936  2999919.88443804]\n"
     ]
    }
   ],
   "source": [
    "iers_a = iers.IERS_Auto.open()\n",
    "\n",
    "# 定义时间\n",
    "t = Time(\"2000-01-01 12:00:00\", scale='utc')\n",
    "\n",
    "# TT 两部分儒略日\n",
    "tt1, tt2 = t.tt.jd1, t.tt.jd2\n",
    "# UT1 两部分儒略日\n",
    "ut1_1, ut1_2 = t.ut1.jd1, t.ut1.jd2\n",
    "\n",
    "# 章动+岁差矩阵\n",
    "x, y, s = erfa.xys06a(tt1, tt2)\n",
    "pn = erfa.c2ixys(x, y, s)\n",
    "\n",
    "# 地球自转角\n",
    "era = erfa.era00(ut1_1, ut1_2)\n",
    "# era = erfa.gst00b(ut1_1, ut1_2)\n",
    "\n",
    "R = np.array([\n",
    "    [ np.cos(era), np.sin(era), 0.0],\n",
    "    [-np.sin(era), np.cos(era), 0.0],\n",
    "    [ 0.0,          0.0,        1.0]\n",
    "])\n",
    "\n",
    "# 极移矩阵\n",
    "# 获取极移参数\n",
    "x_p, y_p = iers_a.pm_xy(t.jd1, t.jd2)\n",
    "print(f\"x_p = {x_p.to('arcsec')}, y_p = {y_p.to('arcsec')}\")\n",
    "\n",
    "# 小角度近似\n",
    "xp = x_p.to(u.rad).value\n",
    "yp = y_p.to(u.rad).value\n",
    "\n",
    "# s' 修正\n",
    "sp = erfa.sp00(tt1, tt2)\n",
    "pom = erfa.pom00(xp, yp, sp)\n",
    "\n",
    "# 合成总矩阵\n",
    "total = pom @ R @ pn\n",
    "\n",
    "print(\"PN 矩阵:\\n\", pn)\n",
    "print(\"R 矩阵:\\n\", R)\n",
    "print(\"POM 矩阵:\\n\", pom)\n",
    "print(\"总矩阵 (ECI→ECEF):\\n\", total)\n",
    "\n",
    "vec_gcrs = np.array([1000e3, 2000e3, 3000e3])  # 7000 km\n",
    "vec_itrs_via_matrix = total @ vec_gcrs\n",
    "print(\"\\nExample vector (GCRS) -> ITRS via composed matrix:\\n\", vec_itrs_via_matrix)\n",
    "# [-1785232.6434222   1346634.72991934  2999919.88443606]"
   ]
  },
  {
   "cell_type": "code",
   "execution_count": 187,
   "id": "e5349180",
   "metadata": {},
   "outputs": [
    {
     "data": {
      "text/plain": [
       "(array([1000080.85766708, 2000084.00308899, 2999917.04197223]),\n",
       " array([-1785233.27571001,  1346640.22388398,  2999917.04197223]),\n",
       " array([-1785232.64476908,  1346634.72812937,  2999919.88443804]))"
      ]
     },
     "execution_count": 187,
     "metadata": {},
     "output_type": "execute_result"
    }
   ],
   "source": [
    "# cirs = pn @ vec_gcrs\n",
    "cirs = np.array([1000080.85766708, 2000084.00308899, 2999917.04197223])\n",
    "tirs = R @ cirs\n",
    "itrs = pom @ tirs\n",
    "cirs,tirs,itrs"
   ]
  },
  {
   "cell_type": "code",
   "execution_count": null,
   "id": "6ac25beb",
   "metadata": {},
   "outputs": [
    {
     "data": {
      "text/plain": [
       "(array([1000204.64020741, 2000022.10462589, 2999917.04197223]),\n",
       " array([1000204.64020741, 2000022.10462589, 2999917.04197223]))"
      ]
     },
     "execution_count": 216,
     "metadata": {},
     "output_type": "execute_result"
    }
   ],
   "source": [
    "pn = erfa.pnm06a(t.tt.jd1, t.tt.jd2)\n",
    "# p = erfa.pmat06(t.tt.jd1, t.tt.jd2)\n",
    "# n = erfa.num06a(t.tt.jd1, t.tt.jd2)\n",
    "# b = erfa.bp06(t.tt.jd1, t.tt.jd2)\n",
    "pn @ vec_gcrs"
   ]
  },
  {
   "cell_type": "code",
   "execution_count": 208,
   "id": "7f3d3297",
   "metadata": {},
   "outputs": [
    {
     "data": {
      "text/plain": [
       "(<CartesianRepresentation (x, y, z) in m\n",
       "     (1000080.85766708, 2000084.00308899, 2999917.04197223)>,\n",
       " <CartesianRepresentation (x, y, z) in m\n",
       "     (-1785232.64476908, 1346634.72812936, 2999919.88443804)>)"
      ]
     },
     "execution_count": 208,
     "metadata": {},
     "output_type": "execute_result"
    }
   ],
   "source": [
    "c = SkyCoord(\n",
    "    x=1000e3*u.m, y=2000e3*u.m, z=3000e3*u.m,\n",
    "    frame='gcrs',\n",
    "    representation_type='cartesian',\n",
    "    obstime=t\n",
    ")\n",
    "\n",
    "c.transform_to(\"cirs\").cartesian, c.transform_to(\"itrs\").cartesian"
   ]
  },
  {
   "cell_type": "code",
   "execution_count": 210,
   "id": "e19f5d93",
   "metadata": {},
   "outputs": [
    {
     "name": "stdout",
     "output_type": "stream",
     "text": [
      "pn (erfa.pnm06a):\n",
      " [[ 9.99999998e-01  6.18993850e-05  2.69479054e-05]\n",
      " [-6.19001396e-05  9.99999998e-01  2.80031271e-05]\n",
      " [-2.69461720e-05 -2.80047951e-05  9.99999999e-01]]\n",
      "\n",
      "M_astropy (from SkyCoord transforms):\n",
      " [[ 1.00000000e+00  9.75665826e-09  2.69461723e-05]\n",
      " [-1.05112802e-08  1.00000000e+00  2.80047948e-05]\n",
      " [-2.69461720e-05 -2.80047951e-05  9.99999999e-01]]\n",
      "\n",
      "Diff (M_astropy - pn):\n",
      " [[ 1.91581384e-09 -6.18896283e-05 -1.73315474e-09]\n",
      " [ 6.18896283e-05  1.91576688e-09  1.66774227e-09]\n",
      " [-3.38813179e-21 -3.38813179e-21  0.00000000e+00]]\n",
      "\n",
      "Max abs diff: 6.188962834338667e-05\n"
     ]
    }
   ],
   "source": [
    "import numpy as np\n",
    "import astropy.units as u\n",
    "from astropy.time import Time\n",
    "from astropy.coordinates import CartesianRepresentation, GCRS, CIRS\n",
    "\n",
    "# 时间（与你之前一致）\n",
    "t = Time(\"2000-01-01 12:00:00\", scale='utc')\n",
    "\n",
    "# 1) erfa 的 pn\n",
    "pn = erfa.pnm06a(t.tt.jd1, t.tt.jd2)\n",
    "\n",
    "# 2) 用 Astropy 把基向量从 GCRS -> CIRS，构造 Astropy 的变换矩阵\n",
    "e1 = CartesianRepresentation([1.0, 0.0, 0.0] * u.m)\n",
    "e2 = CartesianRepresentation([0.0, 1.0, 0.0] * u.m)\n",
    "e3 = CartesianRepresentation([0.0, 0.0, 1.0] * u.m)\n",
    "\n",
    "def gcrs_to_cirs_vec(rep):\n",
    "    g = GCRS(rep, obstime=t)\n",
    "    cirs = g.transform_to(CIRS(obstime=t))\n",
    "    return cirs.cartesian.xyz.to(u.m).value  # 返回 numpy array\n",
    "\n",
    "v1 = gcrs_to_cirs_vec(e1)\n",
    "v2 = gcrs_to_cirs_vec(e2)\n",
    "v3 = gcrs_to_cirs_vec(e3)\n",
    "\n",
    "M_astropy = np.column_stack([v1, v2, v3])\n",
    "\n",
    "# 输出比较\n",
    "print(\"pn (erfa.pnm06a):\\n\", pn)\n",
    "print(\"\\nM_astropy (from SkyCoord transforms):\\n\", M_astropy)\n",
    "print(\"\\nDiff (M_astropy - pn):\\n\", (M_astropy - pn))\n",
    "print(\"\\nMax abs diff:\", np.max(np.abs(M_astropy - pn)))\n"
   ]
  },
  {
   "cell_type": "code",
   "execution_count": 59,
   "id": "f8c53ac9",
   "metadata": {},
   "outputs": [
    {
     "name": "stdout",
     "output_type": "stream",
     "text": [
      "地球自转角 (ERA): 4.8949871025 rad\n",
      "视-平恒星时差: -12.7803 arcsec\n",
      "视恒星时: 1009650.8006 arcsec\n",
      "平恒星时: 1009663.5809 arcsec\n"
     ]
    },
    {
     "data": {
      "text/plain": [
       "(array([-1785248.68548046,  1346434.97094746,  3000000.        ]),\n",
       " array([-1785165.25639046,  1346545.58310381,  3000000.        ]))"
      ]
     },
     "execution_count": 59,
     "metadata": {},
     "output_type": "execute_result"
    }
   ],
   "source": [
    "# 创建时间对象\n",
    "t = Time(\"2000-01-01 12:00:00\", scale='utc')\n",
    "ut1_1, ut1_2 = t.ut1.jd1, t.ut1.jd2\n",
    "\n",
    "# 计算ERA（不考虑章动）\n",
    "era = erfa.era00(ut1_1, ut1_2)\n",
    "print(f\"地球自转角 (ERA): {era:.10f} rad\")\n",
    "\n",
    "# 计算包含章动的恒星时\n",
    "gst_apparent = t.sidereal_time('apparent', 'greenwich')\n",
    "gst_mean = t.sidereal_time('mean', 'greenwich')\n",
    "print(f\"视-平恒星时差: {(gst_apparent-gst_mean).to(u.arcsec):.4f}\")\n",
    "print(f\"视恒星时: {(gst_apparent).to(u.arcsec):.4f}\")\n",
    "print(f\"平恒星时: {(gst_mean).to(u.arcsec):.4f}\")\n",
    "\n",
    "gast1 = gst_mean.radian\n",
    "Rz_mean = np.array([\n",
    "    [np.cos(gast1), np.sin(gast1), 0],\n",
    "    [-np.sin(gast1), np.cos(gast1), 0],\n",
    "    [0, 0, 1]\n",
    "])\n",
    "\n",
    "gast2 = gst_apparent.radian\n",
    "Rz_apparent = np.array([\n",
    "    [np.cos(gast2), np.sin(gast2), 0],\n",
    "    [-np.sin(gast2), np.cos(gast2), 0],\n",
    "    [0, 0, 1]\n",
    "])\n",
    "\n",
    "Rz_apparent @ vec_gcrs, Rz_mean @ vec_gcrs"
   ]
  },
  {
   "cell_type": "code",
   "execution_count": null,
   "id": "4691bc41",
   "metadata": {},
   "outputs": [
    {
     "data": {
      "text/plain": [
       "array([-1785149.929228  ,  1346750.70872892,  2999917.04197223])"
      ]
     },
     "execution_count": 141,
     "metadata": {},
     "output_type": "execute_result"
    }
   ],
   "source": [
    "# 1. 计算章动/岁差矩阵\n",
    "pn = erfa.pnm06a(tt1, tt2)\n",
    "\n",
    "# 2. 计算ERA矩阵\n",
    "era = erfa.era00(ut1_1, ut1_2)\n",
    "R = np.array([\n",
    "    [ np.cos(era), np.sin(era), 0],\n",
    "    [-np.sin(era), np.cos(era), 0],\n",
    "    [ 0,           0,           1]\n",
    "])\n",
    "\n",
    "# 3. 组合得到包含章动的总旋转\n",
    "total_rotation = R @ pn  # CIRS → TIRS\n",
    "total_rotation @ vec_gcrs"
   ]
  },
  {
   "cell_type": "code",
   "execution_count": null,
   "id": "e1377b2c",
   "metadata": {},
   "outputs": [],
   "source": [
    "# ECEF 坐标 (m): [-1785232.64476908  1346634.72812936  2999919.88443804] m"
   ]
  },
  {
   "cell_type": "code",
   "execution_count": null,
   "id": "494731d1",
   "metadata": {},
   "outputs": [
    {
     "data": {
      "text/plain": [
       "np.float64(4.89492521286939)"
      ]
     },
     "execution_count": 130,
     "metadata": {},
     "output_type": "execute_result"
    }
   ],
   "source": [
    "erfa.gst06a(t.ut1.jd1, t.ut1.jd2, t.tt.jd1, t.tt.jd2)"
   ]
  },
  {
   "cell_type": "code",
   "execution_count": null,
   "id": "0018edc8",
   "metadata": {},
   "outputs": [
    {
     "data": {
      "text/plain": [
       "np.float64(4.894987102497796)"
      ]
     },
     "execution_count": 131,
     "metadata": {},
     "output_type": "execute_result"
    }
   ],
   "source": [
    "era = erfa.era00(ut1_1, ut1_2)\n",
    "era"
   ]
  },
  {
   "cell_type": "code",
   "execution_count": null,
   "id": "5497960a",
   "metadata": {},
   "outputs": [
    {
     "name": "stdout",
     "output_type": "stream",
     "text": [
      "计算值: 6.264700145098 rad\n",
      "直接值: 6.257187348101 rad\n",
      "差值: 7.513e-03 rad\n"
     ]
    }
   ],
   "source": [
    "import erfa\n",
    "from astropy.time import Time\n",
    "import numpy as np\n",
    "\n",
    "def era_to_gast(era, tt1, tt2):\n",
    "    \"\"\"将地球自转角(ERA)转换为格林尼治视恒星时(GAST)\"\"\"\n",
    "    # 计算岁差修正项 (IAU 2006)\n",
    "    # 从J2000.0起算的儒略世纪数\n",
    "    t = ((tt1 - 2451545.0) + tt2) / 36525.0\n",
    "    \n",
    "    # 多项式系数 (IAU 2006, 单位: radians)\n",
    "    poly = np.array([-0.0000000368, -0.000029956, -0.00000044, \n",
    "                     1.3915817, 4612.156534, 0.014506]) / 86400.0\n",
    "    \n",
    "    # 计算平恒星时修正\n",
    "    gmst = era + np.polyval(poly, t)\n",
    "    \n",
    "    # 计算章动修正 (二分点方程)\n",
    "    # 获取章动参数\n",
    "    dpsi, deps = erfa.nut06a(tt1, tt2)\n",
    "    # 计算平均黄赤交角\n",
    "    eps = erfa.obl06(tt1, tt2)\n",
    "    # 二分点方程 = Δψ * cos(ε)\n",
    "    ee = dpsi * np.cos(eps)\n",
    "    \n",
    "    # 总视恒星时\n",
    "    gast = gmst + ee\n",
    "    \n",
    "    # 规范化到[0, 2π]\n",
    "    gast = gast % (2 * np.pi)\n",
    "    \n",
    "    return gast\n",
    "\n",
    "t = Time('2024-03-20 12:00:00', scale='utc')\n",
    "era = erfa.era00(t.ut1.jd1, t.ut1.jd2)\n",
    "gast_calculated = era_to_gast(era, t.tt.jd1, t.tt.jd2)\n",
    "gast_direct = erfa.gst06a(t.ut1.jd1, t.ut1.jd2, t.tt.jd1, t.tt.jd2)\n",
    "\n",
    "print(f\"计算值: {gast_calculated:.12f} rad\")\n",
    "print(f\"直接值: {gast_direct:.12f} rad\")\n",
    "print(f\"差值: {(gast_calculated - gast_direct):.3e} rad\")"
   ]
  },
  {
   "cell_type": "code",
   "execution_count": null,
   "id": "86710d8f",
   "metadata": {},
   "outputs": [
    {
     "name": "stdout",
     "output_type": "stream",
     "text": [
      "计算值: 6.244278709249 rad\n",
      "直接值: 6.251791506246 rad\n",
      "差值: -7.513e-03 rad\n"
     ]
    }
   ],
   "source": [
    "def gast_to_era(gast, tt1, tt2):\n",
    "    \"\"\"将格林尼治视恒星时(GAST)转换为地球自转角(ERA)\"\"\"\n",
    "    # 计算章动修正\n",
    "    dpsi, deps = erfa.nut06a(tt1, tt2)\n",
    "    eps = erfa.obl06(tt1, tt2)\n",
    "    ee = dpsi * np.cos(eps)\n",
    "    \n",
    "    # 计算平恒星时\n",
    "    gmst = gast - ee\n",
    "    \n",
    "    # 计算岁差修正\n",
    "    t = ((tt1 - 2451545.0) + tt2) / 36525.0\n",
    "    poly = np.array([-0.0000000368, -0.000029956, -0.00000044, \n",
    "                     1.3915817, 4612.156534, 0.014506]) / 86400.0\n",
    "    poly_corr = np.polyval(poly, t)\n",
    "    \n",
    "    # 计算ERA\n",
    "    era = gmst - poly_corr\n",
    "    \n",
    "    # 规范化到[0, 2π]\n",
    "    era = era % (2 * np.pi)\n",
    "    \n",
    "    return era\n",
    "\n",
    "t = Time('2024-03-20 12:00:00', scale='utc')\n",
    "gast = erfa.gst06a(t.ut1.jd1, t.ut1.jd2, t.tt.jd1, t.tt.jd2)\n",
    "era_calculated = gast_to_era(gast, t.tt.jd1, t.tt.jd2)\n",
    "era_direct = erfa.era00(t.ut1.jd1, t.ut1.jd2)\n",
    "\n",
    "print(f\"计算值: {era_calculated:.12f} rad\")\n",
    "print(f\"直接值: {era_direct:.12f} rad\")\n",
    "print(f\"差值: {(era_calculated - era_direct):.3e} rad\")"
   ]
  },
  {
   "cell_type": "code",
   "execution_count": null,
   "id": "691d4282",
   "metadata": {},
   "outputs": [],
   "source": [
    "from astropy.constants import G, M_earth\n",
    "mu_earth = (G * M_earth).to(u.km**3 / u.s**2).value  # 地球引力常数\n",
    "\n",
    "def kepler_propagation(a, e, i, raan, argp, M0, t0, t):\n",
    "    \"\"\"\n",
    "    简单二体开普勒解析传播\n",
    "    a,e,i,raan,argp,M0 单位分别: km, -, rad, rad, rad, rad\n",
    "    t0, t: astropy Time\n",
    "    返回 r,v (km, km/s)\n",
    "    \"\"\"\n",
    "    n = np.sqrt(mu_earth / a**3)  # 平均运动\n",
    "    M = M0 + n * (t - t0).to(u.s).value  # 平近点角\n",
    "\n",
    "    # 解开普勒方程 M = E - e*sinE\n",
    "    def solve_kepler(M, e):\n",
    "        E = M\n",
    "        for _ in range(50):\n",
    "            E = E - (E - e*np.sin(E) - M)/(1 - e*np.cos(E))\n",
    "        return E\n",
    "    E = solve_kepler(M, e)\n",
    "    # 真近点角\n",
    "    f = 2*np.arctan2(np.sqrt(1+e)*np.sin(E/2),\n",
    "                     np.sqrt(1-e)*np.cos(E/2))\n",
    "    r_norm = a*(1 - e*np.cos(E))\n",
    "    # 在轨道平面坐标系\n",
    "    r_pf = np.array([r_norm*np.cos(f), r_norm*np.sin(f), 0])\n",
    "    v_pf = np.sqrt(mu_earth*a)/r_norm * np.array([-np.sin(E), np.sqrt(1-e**2)*np.cos(E), 0])\n",
    "    # 转换矩阵 (PQW -> ECI)\n",
    "    cosO, sinO = np.cos(raan), np.sin(raan)\n",
    "    cosi, sini = np.cos(i), np.sin(i)\n",
    "    cosw, sinw = np.cos(argp), np.sin(argp)\n",
    "    R = np.array([\n",
    "        [cosO*cosw - sinO*sinw*cosi, -cosO*sinw - sinO*cosw*cosi, sinO*sini],\n",
    "        [sinO*cosw + cosO*sinw*cosi, -sinO*sinw + cosO*cosw*cosi, -cosO*sini],\n",
    "        [sinw*sini, cosw*sini, cosi]\n",
    "    ])\n",
    "    r = R @ r_pf\n",
    "    v = R @ v_pf\n",
    "    return r, v\n"
   ]
  },
  {
   "cell_type": "code",
   "execution_count": 30,
   "id": "77967e2e",
   "metadata": {},
   "outputs": [
    {
     "name": "stdout",
     "output_type": "stream",
     "text": [
      "dt_targets 排序: [5 1 3]\n"
     ]
    },
    {
     "data": {
      "text/plain": [
       "(array([1, 2, 0]), array([2, 0, 1]))"
      ]
     },
     "execution_count": 30,
     "metadata": {},
     "output_type": "execute_result"
    }
   ],
   "source": [
    "dt_targets = [5, 1, 3]\n",
    "order = np.argsort(dt_targets)       # [1, 2, 0]\n",
    "order.argsort()                      # [2, 0, 1]\n",
    "\n",
    "print(\"dt_targets 排序:\", np.array(dt_targets)[order][order.argsort()])   # [1, 3, 5]\n",
    "order, order.argsort()  "
   ]
  },
  {
   "cell_type": "code",
   "execution_count": 3,
   "id": "f0953157",
   "metadata": {},
   "outputs": [
    {
     "name": "stdout",
     "output_type": "stream",
     "text": [
      "[ 3303997.39098724 -3082265.0596157   5340882.90406655] m [3795.15827016 6390.07757015 1332.03320852] m / s\n"
     ]
    }
   ],
   "source": [
    "from astropy import units as u\n",
    "from astropy.time import Time\n",
    "from poliastro.bodies import Earth\n",
    "from poliastro.twobody import Orbit\n",
    "\n",
    "# 定义轨道\n",
    "epoch = Time(\"2000-09-18T00:00:00\", scale=\"utc\")\n",
    "orb = Orbit.from_classical(\n",
    "    attractor=Earth,\n",
    "    a=7000e3*u.m, ecc=0.001*u.one,\n",
    "    inc=51.6*u.deg, raan=247.46*u.deg, argp=130.536*u.deg, nu=10*u.deg,\n",
    "    epoch=epoch\n",
    ")\n",
    "\n",
    "new_orb = orb.propagate(1 * u.day)\n",
    "print(new_orb.r.to(u.m), new_orb.v.to(u.m/u.s))"
   ]
  },
  {
   "cell_type": "code",
   "execution_count": 79,
   "id": "a01e462b",
   "metadata": {},
   "outputs": [
    {
     "name": "stdout",
     "output_type": "stream",
     "text": [
      "位置 (km): [ 3303997.39075364 -3082265.06000574  5340882.90398298]\n",
      "速度 (km/s): [3795.15827039 6390.07756993 1332.03320888]\n"
     ]
    }
   ],
   "source": [
    "import numpy as np\n",
    "from astropy import units as u\n",
    "from astropy.time import Time\n",
    "from poliastro.bodies import Earth\n",
    "from poliastro.twobody import Orbit\n",
    "from poliastro.twobody.propagation import CowellPropagator\n",
    "from poliastro.core.perturbations import J2_perturbation\n",
    "from poliastro.core.propagation import func_twobody\n",
    "\n",
    "# 初始轨道\n",
    "epoch = Time(\"2025-09-18T00:00:00\", scale=\"utc\")\n",
    "orb = Orbit.from_classical(\n",
    "    attractor=Earth,\n",
    "    a=7000e3*u.m, ecc=0.001*u.one,\n",
    "    inc=51.6*u.deg, raan=247.46*u.deg, argp=130.536*u.deg, nu=10*u.deg,\n",
    "    epoch=epoch\n",
    ")\n",
    "# J2 常数\n",
    "J2 = Earth.J2.value\n",
    "R = Earth.R.to(u.km).value\n",
    "mu = Earth.k.to(u.km**3 / u.s**2).value\n",
    "\n",
    "def f(t0, u_, k):\n",
    "    du_kep = func_twobody(t0, u_, k)\n",
    "    ax, ay, az = J2_perturbation(\n",
    "        t0, u_, k, J2=Earth.J2.value, R=Earth.R.to(u.km).value\n",
    "    )\n",
    "    du_ad = np.array([0, 0, 0, ax, ay, az])\n",
    "    return du_kep + du_ad\n",
    "\n",
    "tof = 1 * u.day\n",
    "new_orb = orb.propagate(tof, method=CowellPropagator())\n",
    "# new_orb = orb.propagate(tof, method=CowellPropagator(f=f))\n",
    "\n",
    "print(\"位置 (km):\", new_orb.r.to(u.m).value)\n",
    "print(\"速度 (km/s):\", new_orb.v.to(u.m/u.s).value)"
   ]
  },
  {
   "cell_type": "code",
   "execution_count": 80,
   "id": "32c0bc60",
   "metadata": {},
   "outputs": [
    {
     "name": "stdout",
     "output_type": "stream",
     "text": [
      "位置 (km): [ 3303997.39098724 -3082265.0596157   5340882.90406655]\n",
      "速度 (km/s): [3795.15827016 6390.07757015 1332.03320852]\n"
     ]
    }
   ],
   "source": [
    "new_orb1 = orb.propagate(tof)\n",
    "\n",
    "print(\"位置 (km):\", new_orb1.r.to(u.m).value)\n",
    "print(\"速度 (km/s):\", new_orb1.v.to(u.m/u.s).value)"
   ]
  },
  {
   "cell_type": "code",
   "execution_count": 78,
   "id": "56d301f0",
   "metadata": {},
   "outputs": [
    {
     "data": {
      "text/plain": [
       "(array([4619494.36812227, 3928124.34736963, 3483338.09842163]),\n",
       " array([-1504.31074401,  5823.44333568, -4569.43615947]))"
      ]
     },
     "execution_count": 78,
     "metadata": {},
     "output_type": "execute_result"
    }
   ],
   "source": [
    "r0v0 = orb._state.to_vectors()\n",
    "r0 = r0v0.r.to_value(u.m)\n",
    "v0 = r0v0.v.to_value(u.m/u.s)\n",
    "r0, v0"
   ]
  }
 ],
 "metadata": {
  "kernelspec": {
   "display_name": "310",
   "language": "python",
   "name": "python3"
  },
  "language_info": {
   "codemirror_mode": {
    "name": "ipython",
    "version": 3
   },
   "file_extension": ".py",
   "mimetype": "text/x-python",
   "name": "python",
   "nbconvert_exporter": "python",
   "pygments_lexer": "ipython3",
   "version": "3.10.15"
  }
 },
 "nbformat": 4,
 "nbformat_minor": 5
}

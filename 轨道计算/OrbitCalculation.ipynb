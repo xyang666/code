{
 "cells": [
  {
   "cell_type": "code",
   "execution_count": 140,
   "id": "2174ee12",
   "metadata": {},
   "outputs": [],
   "source": [
    "import numpy as np\n",
    "from astropy.coordinates import CartesianRepresentation, ITRS, GCRS\n",
    "from astropy.time import Time\n",
    "import astropy.units as u\n",
    "from astropy.utils import iers\n",
    "import erfa\n",
    "iers.conf.auto_download = False  # 禁用自动下载"
   ]
  },
  {
   "cell_type": "code",
   "execution_count": null,
   "id": "5d8898b3",
   "metadata": {},
   "outputs": [
    {
     "name": "stdout",
     "output_type": "stream",
     "text": [
      "位置矢量 [X, Y, Z]: [-3490553.25095484  2967414.22232443  4987205.00104197] 米\n",
      "速度矢量 [Vx, Vy, Vz]: [-2860.20056896 -6818.00547155  2060.09789316] 米/秒\n"
     ]
    }
   ],
   "source": [
    "def keplerian_to_cartesian(a, e, i, raan, argp, nu, mu):\n",
    "    \"\"\"\n",
    "    将开普勒轨道根数转换为笛卡尔位置和速度矢量 (IJK坐标系)。\n",
    "\n",
    "    参数:\n",
    "    a : float\n",
    "        半长轴 (m)\n",
    "    e : float\n",
    "        偏心率\n",
    "    i : float\n",
    "        轨道倾角 (rad)\n",
    "    raan : float\n",
    "        升交点赤经 (rad)\n",
    "    argp : float\n",
    "        近地点幅角 (rad)\n",
    "    nu : float\n",
    "        真近点角 (rad)\n",
    "    mu : float\n",
    "        中心天体重力参数 (m^3/s^2)\n",
    "\n",
    "    返回:\n",
    "    r_ijk : numpy array\n",
    "        位置矢量 [X, Y, Z] (m)\n",
    "    v_ijk : numpy array\n",
    "        速度矢量 [Vx, Vy, Vz] (m/s)\n",
    "    \"\"\"\n",
    "\n",
    "    # 1. 计算比角动量 h 和瞬时距离 r\n",
    "    h = np.sqrt(mu * a * (1 - e**2))\n",
    "    r = (h**2 / mu) / (1 + e * np.cos(nu))\n",
    "\n",
    "    # 2. 在PQW轨道平面坐标系中的位置和速度\n",
    "    r_pqw = np.array([r * np.cos(nu), r * np.sin(nu), 0])\n",
    "    v_pqw = np.array([-(mu/h) * np.sin(nu), (mu/h) * (e + np.cos(nu)), 0])\n",
    "\n",
    "    # 3. 构建旋转矩阵 (从PQW到IJK)\n",
    "    # 注意：代码中使用的是旋转矩阵的转置\n",
    "    R11 = np.cos(raan)*np.cos(argp) - np.sin(raan)*np.sin(argp)*np.cos(i)\n",
    "    R12 = -np.cos(raan)*np.sin(argp) - np.sin(raan)*np.cos(argp)*np.cos(i)\n",
    "    R13 = np.sin(raan)*np.sin(i)\n",
    "    \n",
    "    R21 = np.sin(raan)*np.cos(argp) + np.cos(raan)*np.sin(argp)*np.cos(i)\n",
    "    R22 = -np.sin(raan)*np.sin(argp) + np.cos(raan)*np.cos(argp)*np.cos(i)\n",
    "    R23 = -np.cos(raan)*np.sin(i)\n",
    "    \n",
    "    R31 = np.sin(argp)*np.sin(i)\n",
    "    R32 = np.cos(argp)*np.sin(i)\n",
    "    R33 = np.cos(i)\n",
    "    \n",
    "    rot_matrix = np.array([[R11, R12, R13],\n",
    "                           [R21, R22, R23],\n",
    "                           [R31, R32, R33]])\n",
    "\n",
    "    # 4. 应用旋转，得到IJK坐标系中的矢量\n",
    "    r_ijk = rot_matrix @ r_pqw\n",
    "    v_ijk = rot_matrix @ v_pqw\n",
    "\n",
    "    return r_ijk, v_ijk\n",
    "\n",
    "if __name__ == \"__main__\":\n",
    "    # 定义地球重力参数 (m^3/s^2)\n",
    "    mu_earth = 3.986004418e14\n",
    "\n",
    "    # 输入一组开普勒根数 (示例为一个近地轨道)\n",
    "    a = 6778000.0  # m (约400km高度)\n",
    "    e = 0.001\n",
    "    i = np.deg2rad(51.6)  # 转换为弧度\n",
    "    raan = np.deg2rad(80.0)\n",
    "    argp = np.deg2rad(40.0)\n",
    "    nu = np.deg2rad(30.0)\n",
    "\n",
    "    # 执行转换\n",
    "    r_vec, v_vec = keplerian_to_cartesian(a, e, i, raan, argp, nu, mu_earth)\n",
    "\n",
    "    # 打印结果\n",
    "    print(f\"位置矢量 [X, Y, Z]: {r_vec} 米\")\n",
    "    print(f\"速度矢量 [Vx, Vy, Vz]: {v_vec} 米/秒\")"
   ]
  },
  {
   "cell_type": "code",
   "execution_count": 141,
   "id": "bb9cf226",
   "metadata": {},
   "outputs": [
    {
     "name": "stdout",
     "output_type": "stream",
     "text": [
      "ECEF坐标 (m): [-1785248.68548046  1346434.97094746  3000000.        ]\n"
     ]
    }
   ],
   "source": [
    "def eci_to_ecef(x_eci, y_eci, z_eci, utc_time):\n",
    "    # 计算GAST（Astropy内置方法）\n",
    "    t = Time(utc_time, scale='utc')\n",
    "    gast = t.sidereal_time('apparent', 'greenwich').radian\n",
    "    \n",
    "    # 构建旋转矩阵\n",
    "    Rz = np.array([\n",
    "        [np.cos(gast), np.sin(gast), 0],\n",
    "        [-np.sin(gast), np.cos(gast), 0],\n",
    "        [0, 0, 1]\n",
    "    ])\n",
    "    \n",
    "    # 应用旋转\n",
    "    ecef = Rz @ np.array([x_eci, y_eci, z_eci])\n",
    "    return ecef\n",
    "\n",
    "if __name__ == \"__main__\":\n",
    "    # 示例：UTC时间2025-09-12 14:52:07\n",
    "    x_eci, y_eci, z_eci = 1000000, 2000000, 3000000  # 假设ECI坐标\n",
    "    ecef = eci_to_ecef(x_eci, y_eci, z_eci, '2000-01-01 12:00:00')\n",
    "    print(\"ECEF坐标 (m):\", ecef)"
   ]
  },
  {
   "cell_type": "code",
   "execution_count": 142,
   "id": "007d72c1",
   "metadata": {},
   "outputs": [
    {
     "name": "stdout",
     "output_type": "stream",
     "text": [
      "ECEF 坐标 (m): (-1785232.64476908, 1346634.72812936, 2999919.88443804) \n"
     ]
    }
   ],
   "source": [
    "def eci_to_ecef_full(x_eci, y_eci, z_eci, utc_time):\n",
    "    # 定义 GCRS (地心惯性系，近似 ECI)\n",
    "    gcrs = GCRS(CartesianRepresentation([x_eci, y_eci, z_eci]), obstime=utc_time)\n",
    "\n",
    "    # 转换到 ITRS (ECEF)\n",
    "    ecef = gcrs.transform_to(ITRS(obstime=t))\n",
    "    \n",
    "    return ecef\n",
    "\n",
    "\n",
    "if __name__ == \"__main__\":\n",
    "    t = Time(\"2000-01-01 12:00:00\", scale=\"utc\")\n",
    "    x_eci, y_eci, z_eci = 1000000, 2000000, 3000000  # 假设ECI坐标\n",
    "    ecef = eci_to_ecef_full(x_eci, y_eci, z_eci, '2000-01-01 12:00:00')\n",
    "    print(\"ECEF 坐标 (m):\", ecef.cartesian)\n"
   ]
  },
  {
   "cell_type": "code",
   "execution_count": 155,
   "id": "69f89573",
   "metadata": {},
   "outputs": [
    {
     "name": "stdout",
     "output_type": "stream",
     "text": [
      "x_p = 0.0433815 arcsec, y_p = 0.3778705 arcsec\n"
     ]
    }
   ],
   "source": [
    "from astropy.time import Time\n",
    "from astropy.utils import iers\n",
    "\n",
    "# 自动下载最新IERS数据\n",
    "iers_a = iers.IERS_Auto.open()\n",
    "\n",
    "# 定义时间\n",
    "t = Time(\"2000-01-01 12:00:00\", scale='utc')\n",
    "\n",
    "# 获取极移参数\n",
    "x_p, y_p = iers_a.pm_xy(t)\n",
    "print(f\"x_p = {x_p.to('arcsec')}, y_p = {y_p.to('arcsec')}\")\n",
    "\n",
    "# 小角度近似\n",
    "x = x_p.to('rad').value\n",
    "y = y_p.to('rad').value\n",
    "\n",
    "W = np.array([\n",
    "    [1, 0, -x],\n",
    "    [0, 1, -y],\n",
    "    [x, y, 1]\n",
    "])"
   ]
  },
  {
   "cell_type": "code",
   "execution_count": null,
   "id": "882175e6",
   "metadata": {},
   "outputs": [
    {
     "name": "stdout",
     "output_type": "stream",
     "text": [
      "PN 矩阵:\n",
      " [[ 9.99999998e-01  6.18993850e-05  2.69479054e-05]\n",
      " [-6.19001396e-05  9.99999998e-01  2.80031271e-05]\n",
      " [-2.69461720e-05 -2.80047951e-05  9.99999999e-01]]\n",
      "R 矩阵:\n",
      " [[ 0.18158511 -0.98337523  0.        ]\n",
      " [ 0.98337523  0.18158511  0.        ]\n",
      " [ 0.          0.          1.        ]]\n",
      "POM 矩阵:\n",
      " [[ 9.99999998e-01  6.18998304e-05  2.69481136e-05]\n",
      " [-6.19005851e-05  9.99999998e-01  2.80030541e-05]\n",
      " [-2.69463802e-05 -2.80047221e-05  9.99999999e-01]]\n",
      "总矩阵 (ECI→ECEF):\n",
      " [[ 1.81706852e-01 -9.83352744e-01  4.30582558e-06]\n",
      " [ 9.83352743e-01  1.81706852e-01  5.95893094e-05]\n",
      " [-5.93797090e-05 -6.59364044e-06  9.99999998e-01]]\n"
     ]
    }
   ],
   "source": [
    "xp = iers_a.pm_x(t).to_value('rad')  # x 极移 (rad)\n",
    "yp = iers_a.pm_y(t).to_value('rad')  # y 极移 (rad)\n",
    "\n",
    "xp = x_p.to('rad').value\n",
    "yp = y_p.to('rad').value\n",
    "\n",
    "# TT 两部分儒略日\n",
    "tt1, tt2 = t.tt.jd1, t.tt.jd2\n",
    "# UT1 两部分儒略日\n",
    "ut1_1, ut1_2 = t.ut1.jd1, t.ut1.jd2\n",
    "\n",
    "# 章动+岁差矩阵\n",
    "pn = erfa.pnm06a(tt1, tt2)\n",
    "\n",
    "# 地球自转角\n",
    "era = erfa.era00(ut1_1, ut1_2)\n",
    "R = np.array([\n",
    "    [ np.cos(era), np.sin(era), 0.0],\n",
    "    [-np.sin(era), np.cos(era), 0.0],\n",
    "    [ 0.0,          0.0,        1.0]\n",
    "])\n",
    "\n",
    "# 极移矩阵\n",
    "# s' 修正\n",
    "# sp = erfa.sp00(tt1, tt2)\n",
    "# pom = erfa.pom00(xp, yp, sp)\n",
    "\n",
    "# 极移矩阵\n",
    "pom = erfa.pnm00a(t.jd1, t.jd2)\n",
    "\n",
    "# 合成总矩阵\n",
    "total = pom @ R @ pn\n",
    "\n",
    "print(\"PN 矩阵:\\n\", pn)\n",
    "print(\"R 矩阵:\\n\", R)\n",
    "print(\"POM 矩阵:\\n\", pom)\n",
    "print(\"总矩阵 (ECI→ECEF):\\n\", total)\n"
   ]
  },
  {
   "cell_type": "code",
   "execution_count": 173,
   "id": "9f4b51d0",
   "metadata": {},
   "outputs": [
    {
     "name": "stdout",
     "output_type": "stream",
     "text": [
      "\n",
      "Example vector (GCRS) -> ITRS via composed matrix:\n",
      " [-1784985.71941402  1346945.21428497  2999927.42765601]\n"
     ]
    }
   ],
   "source": [
    "vec_gcrs = np.array([1000e3, 2000e3, 3000e3])  # 7000 km\n",
    "vec_itrs_via_matrix = total @ vec_gcrs\n",
    "print(\"\\nExample vector (GCRS) -> ITRS via composed matrix:\\n\", vec_itrs_via_matrix)"
   ]
  },
  {
   "cell_type": "code",
   "execution_count": 106,
   "id": "e1377b2c",
   "metadata": {},
   "outputs": [],
   "source": [
    "# ECEF 坐标 (m): [-1785232.64476908  1346634.72812936  2999919.88443804] m"
   ]
  },
  {
   "cell_type": "code",
   "execution_count": 160,
   "id": "13e43147",
   "metadata": {},
   "outputs": [
    {
     "name": "stdout",
     "output_type": "stream",
     "text": [
      "转换后的坐标: [ 1.35167823e+11  3.05891119e+09 -5.74166675e+10]\n"
     ]
    }
   ],
   "source": [
    "from astropy.coordinates import SkyCoord\n",
    "\n",
    "def get_identity_at_j2000():\n",
    "    \"\"\"获取在J2000.0时刻为单位阵的转换\"\"\"\n",
    "    \n",
    "    # 方法：使用相同的参考系和历元\n",
    "    j2000 = Time('2000-01-01 12:00:00', scale='utc')\n",
    "    \n",
    "    # 创建ICRS坐标（使用J2000.0历元）\n",
    "    coord_icrs = SkyCoord(\n",
    "        x=1000*u.m, y=2000*u.m, z=3000*u.m,\n",
    "        frame='icrs',\n",
    "        representation_type='cartesian',\n",
    "        obstime=j2000\n",
    "    )\n",
    "    \n",
    "    # 创建ITRS坐标（也使用J2000.0历元）\n",
    "    coord_itrs = SkyCoord(\n",
    "        x=1000*u.m, y=2000*u.m, z=3000*u.m, \n",
    "        frame='itrs',\n",
    "        representation_type='cartesian',\n",
    "        obstime=j2000\n",
    "    )\n",
    "    \n",
    "    # 这种情况下转换矩阵接近单位阵\n",
    "    # 因为源和目标使用相同的地球定向参数\n",
    "    \n",
    "    return coord_icrs.transform_to('itrs')\n",
    "\n",
    "# 测试\n",
    "result = get_identity_at_j2000()\n",
    "print(f\"转换后的坐标: {result.cartesian.xyz.value}\")"
   ]
  }
 ],
 "metadata": {
  "kernelspec": {
   "display_name": "m",
   "language": "python",
   "name": "python3"
  },
  "language_info": {
   "codemirror_mode": {
    "name": "ipython",
    "version": 3
   },
   "file_extension": ".py",
   "mimetype": "text/x-python",
   "name": "python",
   "nbconvert_exporter": "python",
   "pygments_lexer": "ipython3",
   "version": "3.13.4"
  }
 },
 "nbformat": 4,
 "nbformat_minor": 5
}
